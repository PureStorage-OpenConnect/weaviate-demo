{
 "cells": [
  {
   "cell_type": "markdown",
   "metadata": {},
   "source": [
    "# Demo Weaviate Vector Database for AI Integration.\n",
    "### Prerequisites\n",
    "- Kubernetes Cluster\n",
    "- Helm 3.x\n",
    "- Python3.x\n",
    "- Portworx Enterprise 2.11.x or 3.x\n",
    "\n",
    "**Edit the values.yaml in this repo**\n",
    "You can change other things but this *values.yaml* is configured to work with this demo. Just make sure the **storageClassName:** exists in your cluster. By default I am using **px-csi-replicated** this is a repl=2 StorageClass and is included in Portworx default installs (as of testing on October 11, 2023).\n",
    "\n",
    "```\n",
    "storage:\n",
    "  size: 32Gi\n",
    "  storageClassName: \"px-csi-replicated\"\n",
    "```\n",
    "\n"
   ]
  },
  {
   "cell_type": "markdown",
   "metadata": {},
   "source": [
    "### Now run the steps below to install Weaviate and run a test query."
   ]
  },
  {
   "cell_type": "code",
   "execution_count": 45,
   "metadata": {},
   "outputs": [],
   "source": [
    "import weaviate\n",
    "import json\n",
    "import requests\n",
    "import os"
   ]
  },
  {
   "cell_type": "code",
   "execution_count": 46,
   "metadata": {},
   "outputs": [
    {
     "name": "stdout",
     "output_type": "stream",
     "text": [
      "Release \"weaviate\" does not exist. Installing it now.\n",
      "NAME: weaviate\n",
      "LAST DEPLOYED: Wed Oct 18 20:22:26 2023\n",
      "NAMESPACE: weaviate\n",
      "STATUS: deployed\n",
      "REVISION: 1\n",
      "TEST SUITE: None\n"
     ]
    },
    {
     "data": {
      "text/plain": [
       "0"
      ]
     },
     "execution_count": 46,
     "metadata": {},
     "output_type": "execute_result"
    }
   ],
   "source": [
    "os.system(\n",
    "'helm upgrade --install \\\n",
    "weaviate weaviate/weaviate \\\n",
    "--create-namespace \\\n",
    "--namespace weaviate \\\n",
    "--values ../values.yaml'\n",
    ")"
   ]
  },
  {
   "cell_type": "markdown",
   "metadata": {},
   "source": [
    "Run and re-run this cell until you see the Weaviate pod show *READY 1/1*"
   ]
  },
  {
   "cell_type": "code",
   "execution_count": 50,
   "metadata": {},
   "outputs": [
    {
     "name": "stdout",
     "output_type": "stream",
     "text": [
      "NAME             READY   STATUS    RESTARTS   AGE\n",
      "pod/weaviate-0   1/1     Running   0          46s\n",
      "\n",
      "NAME                        TYPE           CLUSTER-IP     EXTERNAL-IP     PORT(S)        AGE\n",
      "service/weaviate            LoadBalancer   10.233.54.62   10.21.100.220   80:30956/TCP   47s\n",
      "service/weaviate-headless   ClusterIP      None           <none>          80/TCP         47s\n",
      "\n",
      "NAME                                             STATUS   VOLUME                                     CAPACITY   ACCESS MODES   STORAGECLASS        AGE\n",
      "persistentvolumeclaim/weaviate-data-weaviate-0   Bound    pvc-dfde1a55-853e-4c7d-8d26-b1d5b79703c1   32Gi       RWO            px-csi-replicated   46s\n"
     ]
    },
    {
     "data": {
      "text/plain": [
       "0"
      ]
     },
     "execution_count": 50,
     "metadata": {},
     "output_type": "execute_result"
    }
   ],
   "source": [
    "os.system('kubectl -n weaviate get pod,svc,pvc')"
   ]
  },
  {
   "cell_type": "markdown",
   "metadata": {},
   "source": [
    "## Import ENV Vars\n",
    "- To use the OpenAI integration you must have a API Key that is availble to make queries against OpanAI API. Edit the `.env` file to include it. \n",
    "- The Weaviate key is a generic key and matches the installation parameters in the `values.yaml`.  \n",
    "- Please remember if you modify the `values.yaml` you must also modify your `.env`\n",
    "- In the above cell you will see the output of the pod running and the external IP this will need to be placed into `.env` as well. `IP_WEAVIATE='Your IP'`\n",
    "\n",
    "Once you have fully edited the `.env` you may run the following cell:"
   ]
  },
  {
   "cell_type": "code",
   "execution_count": 51,
   "metadata": {},
   "outputs": [
    {
     "data": {
      "text/plain": [
       "True"
      ]
     },
     "execution_count": 51,
     "metadata": {},
     "output_type": "execute_result"
    }
   ],
   "source": [
    "\n",
    "\n",
    "from dotenv import load_dotenv\n",
    "load_dotenv()"
   ]
  },
  {
   "cell_type": "markdown",
   "metadata": {},
   "source": [
    "## Pull the key for Weaviate and OpenAPI Create the classObj\n"
   ]
  },
  {
   "cell_type": "code",
   "execution_count": 52,
   "metadata": {},
   "outputs": [],
   "source": [
    "weaviate_key = str(os.getenv('WEAVIATE_KEY'))\n",
    "open_ai_key = os.getenv('OPENAI_KEY')\n",
    "ip_weaviate = os.getenv('IP_WEAVIATE')\n",
    "\n",
    "client = weaviate.Client(\n",
    "    url = \"http://\" + ip_weaviate ,  # Replace with your endpoint\n",
    "    auth_client_secret=weaviate.AuthApiKey(api_key=str(weaviate_key)),  # Replace w/ your Weaviate instance API key\n",
    "    additional_headers = {\n",
    "        \"X-OpenAI-Api-Key\": open_ai_key  # Replace with your inference API key\n",
    "    }\n",
    ")\n",
    "\n",
    "\n",
    "class_obj = {\n",
    "    \"class\": \"Question\",\n",
    "    \"vectorizer\": \"text2vec-openai\",  # If set to \"none\" you must always provide vectors yourself. Could be any other \"text2vec-*\" also.\n",
    "    \"moduleConfig\": {\n",
    "        \"text2vec-openai\": {},\n",
    "        \"generative-openai\": {}  # Ensure the `generative-openai` module is used for generative queries\n",
    "    }\n",
    "}\n",
    "\n",
    "client.schema.create_class(class_obj)"
   ]
  },
  {
   "cell_type": "markdown",
   "metadata": {},
   "source": [
    "## Import data into Weaviate\n",
    "- Pull the data sample of 10 Jeopardy Questions\n",
    "- Insert it into Weaviate"
   ]
  },
  {
   "cell_type": "code",
   "execution_count": 53,
   "metadata": {},
   "outputs": [
    {
     "name": "stdout",
     "output_type": "stream",
     "text": [
      "importing question: 1\n",
      "importing question: 2\n",
      "importing question: 3\n",
      "importing question: 4\n",
      "importing question: 5\n",
      "importing question: 6\n",
      "importing question: 7\n",
      "importing question: 8\n",
      "importing question: 9\n",
      "importing question: 10\n"
     ]
    }
   ],
   "source": [
    "\n",
    "resp = requests.get('https://raw.githubusercontent.com/weaviate-tutorials/quickstart/main/data/jeopardy_tiny.json')\n",
    "data = json.loads(resp.text)  # Load data\n",
    "\n",
    "\n",
    "client.batch.configure(batch_size=100)  # Configure batch\n",
    "with client.batch as batch:  # Initialize a batch process\n",
    "    for i, d in enumerate(data):  # Batch import data\n",
    "        print(f\"importing question: {i+1}\")\n",
    "        properties = {\n",
    "            \"answer\": d[\"Answer\"],\n",
    "            \"question\": d[\"Question\"],\n",
    "            \"category\": d[\"Category\"],\n",
    "        }\n",
    "        batch.add_data_object(\n",
    "            data_object=properties,\n",
    "            class_name=\"Question\"\n",
    "        )\n"
   ]
  },
  {
   "cell_type": "code",
   "execution_count": 54,
   "metadata": {},
   "outputs": [
    {
     "name": "stdout",
     "output_type": "stream",
     "text": [
      "{\"deprecations\": null, \"objects\": [{\"class\": \"Question\", \"creationTimeUnix\": 1697660611305, \"id\": \"102929a9-13d0-4819-8a98-7599446666ab\", \"lastUpdateTimeUnix\": 1697660611305, \"properties\": {\"answer\": \"DNA\", \"category\": \"SCIENCE\", \"question\": \"In 1953 Watson & Crick built a model of the molecular structure of this, the gene-carrying substance\"}, \"vectorWeights\": null}, {\"class\": \"Question\", \"creationTimeUnix\": 1697660611304, \"id\": \"1bbb1958-74c0-45c2-bf6b-77ce26110a43\", \"lastUpdateTimeUnix\": 1697660611304, \"properties\": {\"answer\": \"Elephant\", \"category\": \"ANIMALS\", \"question\": \"It's the only living mammal in the order Proboseidea\"}, \"vectorWeights\": null}, {\"class\": \"Question\", \"creationTimeUnix\": 1697660611305, \"id\": \"23699ed6-f0a5-427f-a2fd-b135c378de7a\", \"lastUpdateTimeUnix\": 1697660611305, \"properties\": {\"answer\": \"the atmosphere\", \"category\": \"SCIENCE\", \"question\": \"Changes in the tropospheric layer of this are what gives us weather\"}, \"vectorWeights\": null}, {\"class\": \"Question\", \"creationTimeUnix\": 1697660611305, \"id\": \"387763c8-357d-479c-a358-b04e04ca1fbe\", \"lastUpdateTimeUnix\": 1697660611305, \"properties\": {\"answer\": \"wire\", \"category\": \"SCIENCE\", \"question\": \"A metal that is ductile can be pulled into this while cold & under pressure\"}, \"vectorWeights\": null}, {\"class\": \"Question\", \"creationTimeUnix\": 1697660611305, \"id\": \"5dca86f2-24c2-479d-a7ba-6daa1355aaf8\", \"lastUpdateTimeUnix\": 1697660611305, \"properties\": {\"answer\": \"species\", \"category\": \"SCIENCE\", \"question\": \"2000 news: the Gunnison sage grouse isn't just another northern sage grouse, but a new one of this classification\"}, \"vectorWeights\": null}, {\"class\": \"Question\", \"creationTimeUnix\": 1697660611304, \"id\": \"89835ab1-7393-4c26-a722-e4df488ffb85\", \"lastUpdateTimeUnix\": 1697660611304, \"properties\": {\"answer\": \"the diamondback rattler\", \"category\": \"ANIMALS\", \"question\": \"Heaviest of all poisonous snakes is this North American rattlesnake\"}, \"vectorWeights\": null}, {\"class\": \"Question\", \"creationTimeUnix\": 1697660611303, \"id\": \"92a58bf8-b64e-4918-99e9-20385de3455b\", \"lastUpdateTimeUnix\": 1697660611303, \"properties\": {\"answer\": \"Sound barrier\", \"category\": \"SCIENCE\", \"question\": \"In 70-degree air, a plane traveling at about 1,130 feet per second breaks it\"}, \"vectorWeights\": null}, {\"class\": \"Question\", \"creationTimeUnix\": 1697660611305, \"id\": \"b0d4570e-ea1b-4d8d-9844-69a680c99a49\", \"lastUpdateTimeUnix\": 1697660611305, \"properties\": {\"answer\": \"Antelope\", \"category\": \"ANIMALS\", \"question\": \"Weighing around a ton, the eland is the largest species of this animal in Africa\"}, \"vectorWeights\": null}, {\"class\": \"Question\", \"creationTimeUnix\": 1697660611304, \"id\": \"c9786e6b-f84b-402b-a9ef-01581b1c7212\", \"lastUpdateTimeUnix\": 1697660611304, \"properties\": {\"answer\": \"Liver\", \"category\": \"SCIENCE\", \"question\": \"This organ removes excess glucose from the blood & stores it as glycogen\"}, \"vectorWeights\": null}, {\"class\": \"Question\", \"creationTimeUnix\": 1697660611304, \"id\": \"d22e65fb-b715-4a2b-ae63-0a70fef7ace5\", \"lastUpdateTimeUnix\": 1697660611304, \"properties\": {\"answer\": \"the nose or snout\", \"category\": \"ANIMALS\", \"question\": \"The gavial looks very much like a crocodile except for this bodily feature\"}, \"vectorWeights\": null}], \"totalResults\": 10}\n"
     ]
    }
   ],
   "source": [
    "#confirm load\n",
    "client = weaviate.Client(\n",
    "    url = \"http://\" + ip_weaviate,  # Replace with your endpoint\n",
    "    auth_client_secret=weaviate.AuthApiKey(api_key=weaviate_key),  # Replace w/ your Weaviate instance API key\n",
    "    additional_headers = {\n",
    "        \"X-OpenAI-Api-Key\": open_ai_key  # Replace with your inference API key\n",
    "    }\n",
    ")\n",
    "some_objects = client.data_object.get()\n",
    "print(json.dumps(some_objects))"
   ]
  },
  {
   "cell_type": "markdown",
   "metadata": {},
   "source": [
    "## Create Weaviate Client\n",
    "- Create the client "
   ]
  },
  {
   "cell_type": "code",
   "execution_count": 55,
   "metadata": {},
   "outputs": [],
   "source": [
    "\n",
    "client = weaviate.Client(\n",
    "    url = \"http://\" + ip_weaviate,  # Replace with your endpoint\n",
    "    auth_client_secret=weaviate.AuthApiKey(api_key=weaviate_key),  # Replace w/ your Weaviate instance API key\n",
    "    additional_headers = {\n",
    "        \"X-OpenAI-Api-Key\": open_ai_key  # Replace with your inference API key\n",
    "    }\n",
    ")\n"
   ]
  },
  {
   "cell_type": "markdown",
   "metadata": {},
   "source": [
    "## Search\n",
    "- Send the search\n",
    "    - Take the sample data from its vector database\n",
    "    - provide answers where the concept is **near** \"Biology\"\n",
    "    - Generate a response from OpenAI using this information and follow the prompt marked by `grouped_task=`\n",
    "    "
   ]
  },
  {
   "cell_type": "code",
   "execution_count": 58,
   "metadata": {},
   "outputs": [
    {
     "name": "stdout",
     "output_type": "stream",
     "text": [
      "{\n",
      "    \"data\": {\n",
      "        \"Get\": {\n",
      "            \"Question\": [\n",
      "                {\n",
      "                    \"_additional\": {\n",
      "                        \"generate\": {\n",
      "                            \"error\": null,\n",
      "                            \"groupedResult\": \"\\\"Just discovered that bacon is the DNA of breakfast. \\ud83e\\udd53\\ud83e\\uddec And apparently, there's a new species of sage grouse out there. I bet it tastes like bacon too. \\ud83d\\udc14\\ud83e\\udd53 #BaconLover #NewSpecies\\\"\"\n",
      "                        }\n",
      "                    },\n",
      "                    \"answer\": \"DNA\",\n",
      "                    \"category\": \"SCIENCE\",\n",
      "                    \"question\": \"In 1953 Watson & Crick built a model of the molecular structure of this, the gene-carrying substance\"\n",
      "                },\n",
      "                {\n",
      "                    \"_additional\": {\n",
      "                        \"generate\": null\n",
      "                    },\n",
      "                    \"answer\": \"species\",\n",
      "                    \"category\": \"SCIENCE\",\n",
      "                    \"question\": \"2000 news: the Gunnison sage grouse isn't just another northern sage grouse, but a new one of this classification\"\n",
      "                }\n",
      "            ]\n",
      "        }\n",
      "    }\n",
      "}\n"
     ]
    }
   ],
   "source": [
    "\n",
    "response = (\n",
    "    client.query\n",
    "    .get(\"Question\", [\"question\", \"answer\", \"category\"])\n",
    "    .with_near_text({\"concepts\": [\"biology\"]})\n",
    "    .with_generate(grouped_task=\"Write a tweet with emojis about these facts. In the voice of Ron Swanson. Make a joke about bacon\")\n",
    "    .with_limit(2)\n",
    "    .do()\n",
    ")\n",
    "\n",
    "print(json.dumps(response, indent=4))\n"
   ]
  },
  {
   "cell_type": "markdown",
   "metadata": {},
   "source": [
    "## Clean Up\n",
    "- Use helm to uninstall and kubectl to delete the pvc in the namespace. \n",
    "- Leaving this fresh for another demo"
   ]
  },
  {
   "cell_type": "code",
   "execution_count": null,
   "metadata": {},
   "outputs": [],
   "source": [
    "os.system(\n",
    "'helm uninstall -n weaviate weaviate && kubectl -n weaviate delete pvc --all'\n",
    ")"
   ]
  },
  {
   "cell_type": "markdown",
   "metadata": {},
   "source": [
    "You are now so awesome at Generative AI and Vector DB's you would probably tweet about it"
   ]
  }
 ],
 "metadata": {
  "kernelspec": {
   "display_name": "Python 3",
   "language": "python",
   "name": "python3"
  },
  "language_info": {
   "codemirror_mode": {
    "name": "ipython",
    "version": 3
   },
   "file_extension": ".py",
   "mimetype": "text/x-python",
   "name": "python",
   "nbconvert_exporter": "python",
   "pygments_lexer": "ipython3",
   "version": "3.10.12"
  }
 },
 "nbformat": 4,
 "nbformat_minor": 2
}
